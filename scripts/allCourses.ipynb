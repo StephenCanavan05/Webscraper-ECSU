{
 "cells": [
  {
   "cell_type": "markdown",
   "metadata": {},
   "source": [
    "WebScrapper for EWeb courses Canavan"
   ]
  },
  {
   "cell_type": "code",
   "execution_count": null,
   "metadata": {},
   "outputs": [],
   "source": [
    "#imports\n",
    "from selenium import webdriver\n",
    "from selenium.webdriver.common.keys import Keys\n",
    "from selenium.webdriver.support.ui import Select\n",
    "import sys\n",
    "from selenium.webdriver.support.select import Select\n",
    "import pandas as pd\n",
    "import re\n",
    "import os\n",
    "from datetime import datetime"
   ]
  },
  {
   "cell_type": "code",
   "execution_count": null,
   "metadata": {},
   "outputs": [],
   "source": [
    "# Create directories if they don't exist\n",
    "os.makedirs(\"webscrapedInfo\", exist_ok=True)\n",
    "os.makedirs(\"intermediateFiles\", exist_ok=True)\n",
    "os.makedirs(\"finalFiles\", exist_ok=True)"
   ]
  },
  {
   "cell_type": "code",
   "execution_count": null,
   "metadata": {},
   "outputs": [],
   "source": [
    "# Get user input for filename prefix\n",
    "filename_prefix = input(\"Enter the your prefered filename + the semester you are viewing: \")\n",
    "date_str = datetime.today().strftime('%Y-%m-%d')\n",
    "\n",
    "# Define filenames\n",
    "# Define filenames with respective directories\n",
    "all_courses_filename = f\"webscrapedInfo/{filename_prefix}_{date_str}.csv\"\n",
    "instructor_schedule_filename = f\"intermediateFiles/{filename_prefix}_Instructor_Course_Schedule_{date_str}.csv\"\n",
    "instructor_split_filename = f\"intermediateFiles/{filename_prefix}_Instructor_Course_Schedule_MultipleInstructorSplit_{date_str}.csv\"\n",
    "instructor_final_filename = f\"intermediateFiles/{filename_prefix}_Instructor_Course_Schedule_Final_{date_str}.csv\"\n",
    "instructor_final_formatted_filename = f\"intermediateFiles/{filename_prefix}_Instructor_Course_Schedule_Final_Formatted_{date_str}.csv\"\n",
    "instructor_final_formatted1_filename = f\"intermediateFiles/{filename_prefix}_Instructor_Course_Schedule_Final_Formatted1_{date_str}.csv\"\n",
    "prolog_ready_filename = f\"finalFiles/{filename_prefix}_prologReadyCourses_{date_str}.csv\"\n",
    "prolog_ready_no_tba_filename = f\"finalFiles/{filename_prefix}_prologReadyCoursesWithoutTBA_{date_str}.csv\""
   ]
  },
  {
   "cell_type": "code",
   "execution_count": null,
   "metadata": {},
   "outputs": [],
   "source": [
    "#Driver for firefox and loading the Eweb url\n",
    "driver = webdriver.Firefox()\n",
    "driver.implicitly_wait(10)\n",
    "\n",
    "driver.get(\"https://ssb-prod.ec.easternct.edu/PROD/bwskfcls.p_termsel\")"
   ]
  },
  {
   "cell_type": "code",
   "execution_count": null,
   "metadata": {},
   "outputs": [],
   "source": [
    "#select term\n",
    "elem = driver.find_elements(by = 'id', value = 'term_id')\n",
    "semester = Select(elem[0])\n",
    "current_semester = semester.first_selected_option.text\n",
    "x = input(f\"The schedule currently out is for {current_semester} semester. Would you like to view the schedule from one semester back? Type 'back' to view the last semester or type 'stay'to view the current semester: \")\n",
    "# select term\n",
    "if x == 'back':\n",
    "\ts = Select(elem[0])\n",
    "\ts.select_by_index(2)\n",
    "def selTerm():\n",
    "    if x != 'back'|'stay':\n",
    "        print('Invalid Entry, please state \"back\" or \"stay')\n",
    "        selTerm()\n"
   ]
  },
  {
   "cell_type": "code",
   "execution_count": null,
   "metadata": {},
   "outputs": [],
   "source": [
    "# submit term\n",
    "elem= driver.find_elements(by = 'tag name', value = 'input')\n",
    "elem[1].click()"
   ]
  },
  {
   "cell_type": "code",
   "execution_count": null,
   "metadata": {},
   "outputs": [],
   "source": [
    "#selecting both\n",
    "both = driver.find_element(by = 'id', value = 'oc_id')\n",
    "both.click()"
   ]
  },
  {
   "cell_type": "code",
   "execution_count": null,
   "metadata": {},
   "outputs": [],
   "source": [
    "#searching\n",
    "btn = driver.find_element(by = 'name', value = 'SUB_BTN')\n",
    "btn.click()"
   ]
  },
  {
   "cell_type": "code",
   "execution_count": null,
   "metadata": {},
   "outputs": [],
   "source": [
    "    # Locate all tables on the page\n",
    "tbl = driver.find_elements(\"tag name\", \"table\")\n"
   ]
  },
  {
   "cell_type": "code",
   "execution_count": null,
   "metadata": {},
   "outputs": [],
   "source": [
    "#This is where all the information will be stored and appened to for .csv exporting\n",
    "info = []\n",
    "\n",
    "for tbl_index, table in enumerate(tbl[2:], start=3):  # Enumerate\n",
    "    \n",
    "    # Locate the rows in the respective table\n",
    "    rows = table.find_elements(\"tag name\", \"tr\")\n",
    "    \n",
    "    # Loop through all rows starting with the 4th row \n",
    "    for row_index, row in enumerate(rows[3:], start=4):  # Enumerate from 4th row\n",
    "        \n",
    "        # Locate all the columns in this row\n",
    "        col = row.find_elements(\"tag name\", \"td\")\n",
    "        \n",
    "        # Using the columns that hold desired data(crse,sec,day,time,room,instrcutor)\n",
    "        indices = [3,4, 5, 10, 11, 20, 21]\n",
    "        data = []\n",
    "        for col_index in indices:\n",
    "            # Avoid error if column is not present\n",
    "            if col_index < len(col):\n",
    "                data.append(col[col_index].text)\n",
    "            else:\n",
    "                data.append(\"N/A\")\n",
    "        \n",
    "        # Add the extracted data to info\n",
    "        info.append(data)\n",
    "\n",
    "# Creating of Pandas data frame\n",
    "df = pd.DataFrame(info, columns=[\"Sub\",\"Crse\", \"Sec\", \"Day\", \"Time\", \"Room\", \"Instructor\"])\n",
    "\n",
    "#Resolving blanks\n",
    "for row in range(len(df)):  # Loop through row indices\n",
    "    if df.iloc[row, 2] == ' ':  # Check if Sec has ' '\n",
    "        df.iloc[row, 0] = df.iloc[row-1, 0]  # Copy values from the previous row\n",
    "        df.iloc[row, 1] = df.iloc[row-1, 1] \n",
    "        df.iloc[row, 2] = df.iloc[row-1, 2]\n",
    "\n",
    "# Export the DataFrame to a CSV file\n",
    "df.to_csv(all_courses_filename, index=False)\n",
    "\n",
    "print(f\"Data exported to {all_courses_filename}\")\n"
   ]
  },
  {
   "cell_type": "code",
   "execution_count": null,
   "metadata": {},
   "outputs": [],
   "source": [
    "#Close the webpage\n",
    "driver.quit()"
   ]
  },
  {
   "cell_type": "code",
   "execution_count": null,
   "metadata": {},
   "outputs": [],
   "source": [
    "# Load the previously exported CSV file\n",
    "df = pd.read_csv(all_courses_filename)\n",
    "\n",
    "# Select only the necessary columns and drop duplicates to create unique instructor-course-day-time rows\n",
    "df_unique = df[[\"Instructor\", \"Sub\", \"Crse\", \"Sec\", \"Day\", \"Time\", \"Room\"]].drop_duplicates()\n",
    "\n",
    "# Filter out rows where the instructor is \"TBA\"\n",
    "df_filtered = df_unique[df_unique[\"Instructor\"] != \"TBA\"]\n",
    "\n",
    "# Remove \"(P)\" from instructor names\n",
    "df_filtered.loc[:, \"Instructor\"] = df_filtered[\"Instructor\"].str.replace(r\"\\(P\\)\", \"\", regex=True).str.strip()\n",
    "\n",
    "df_filtered.to_csv(instructor_schedule_filename, index=False)\n",
    "\n",
    "print(f\"Instructor course schedule exported to {instructor_schedule_filename}\")"
   ]
  },
  {
   "cell_type": "code",
   "execution_count": null,
   "metadata": {},
   "outputs": [],
   "source": [
    "#splitmultipleInstructorclasses\n",
    "# Load the cleaned CSV file\n",
    "df = pd.read_csv(instructor_schedule_filename)\n",
    "\n",
    "# Function to split on every second comma while keeping instructor names intact\n",
    "def split_instructors(instructor):\n",
    "    # This regex captures pairs like \"Last, First\" while splitting on every second comma\n",
    "    return re.findall(r'[^,]+,\\s[^,]+(?:,)?', instructor)\n",
    "\n",
    "# Initialize a new DataFrame list\n",
    "expanded_data = []\n",
    "\n",
    "# Process each row\n",
    "for _, row in df.iterrows():\n",
    "    instructors = split_instructors(row[\"Instructor\"])  # Split correctly\n",
    "    for instructor in instructors:\n",
    "        expanded_data.append([instructor.strip(), row[\"Sub\"], row[\"Crse\"], row[\"Sec\"], row[\"Day\"], row[\"Time\"], row[\"Room\"]])\n",
    "\n",
    "\n",
    "# Create a new DataFrame with split instructors\n",
    "df_expanded = pd.DataFrame(expanded_data, columns=[\"Instructor\", \"Sub\", \"Crse\", \"Sec\", \"Day\", \"Time\", \"Room\"])\n",
    "\n",
    "# Export to a new CSV\n",
    "df_expanded.to_csv(instructor_split_filename, index=False)\n",
    "\n",
    "print(f\"Exported to {instructor_split_filename}\")"
   ]
  },
  {
   "cell_type": "code",
   "execution_count": null,
   "metadata": {},
   "outputs": [],
   "source": [
    "#Removing Commas and spaces under the instructor column and coverting instructor to lowercase\n",
    "\n",
    "# Load the CSV with multiple instructors split\n",
    "df = pd.read_csv(instructor_split_filename)\n",
    "\n",
    "# Remove all commas and spaces from the 'Instructor' column to combine the letters into one string\n",
    "df[\"Instructor\"] = df[\"Instructor\"].str.replace(\",\", \"\", regex=False).str.replace(\" \", \"\", regex=False).str.lower()\n",
    "\n",
    "# Export the updated DataFrame to a new CSV\n",
    "df.to_csv(instructor_final_filename, index=False)\n",
    "\n",
    "print(f\"Final instructor course schedule exported to {instructor_final_filename}\")"
   ]
  },
  {
   "cell_type": "code",
   "execution_count": null,
   "metadata": {},
   "outputs": [],
   "source": [
    "#time, name, and lower case formatting\n",
    "# Load the final instructor course schedule CSV\n",
    "df = pd.read_csv(instructor_final_filename)\n",
    "\n",
    "# Function to convert time to military format\n",
    "def format_time(time_str):\n",
    "    if pd.isna(time_str) or time_str.strip().lower() == \"tba\":  # Handle missing or \"TBA\" values\n",
    "        return \"TBA\"\n",
    "    \n",
    "    # Remove spaces and convert to lowercase for consistency\n",
    "    time_str = time_str.lower().replace(\" \", \"\")\n",
    "    \n",
    "    # Split start and end times by the dash\n",
    "    time_parts = time_str.split('-')\n",
    "    \n",
    "    formatted_times = []\n",
    "    for t in time_parts:\n",
    "        try:\n",
    "            military_time = datetime.strptime(t, \"%I:%M%p\").strftime(\"%H%M\")  # Convert and remove colon\n",
    "            formatted_times.append(military_time)\n",
    "        except ValueError:\n",
    "            return \"TBA\"  # Handle unexpected formats gracefully\n",
    "\n",
    "    return \", \".join(formatted_times)  # Return as \"HHMM, HHMM\"\n",
    "\n",
    "# Apply transformation to the Time column\n",
    "df[\"Time\"] = df[\"Time\"].apply(format_time)\n",
    "df[\"Instructor\"] = df[\"Instructor\"].str.replace(\"-\", \"\", regex=True)  # Remove hyphens from instructor names\n",
    "\n",
    "#Convert entire DataFrame to lowercase\n",
    "df = df.apply(lambda col: col.map(lambda x: x.lower() if isinstance(x, str) else x))\n",
    "\n",
    "# Export modified DataFrame to a new CSV\n",
    "df.to_csv(instructor_final_formatted_filename, index=False)\n",
    "\n",
    "print(f\"Final instructor schedule with formatted time exported to {instructor_final_formatted_filename}\")"
   ]
  },
  {
   "cell_type": "code",
   "execution_count": null,
   "metadata": {},
   "outputs": [],
   "source": [
    "# Load the CSV file\n",
    "df = pd.read_csv(instructor_final_formatted_filename)\n",
    "\n",
    "# Define the replacements\n",
    "replacements = {\n",
    "    \"goddar\": \"goddard\",\n",
    "    \"scienc\": \"science\",\n",
    "    \"faic\": \"fine_arts\",\n",
    "    \"combld\": \"communications\",\n",
    "    \"sport\": \"sports\",\n",
    "    \"cece\": \"the_center_for_early_childhood_education\",\n",
    "    \"librar\": \"library\",\n",
    "    \"planet plt\": \"planetarium\"\n",
    "}\n",
    "\n",
    "# Apply the replacements to the 'Room' column\n",
    "df[\"Room\"] = df[\"Room\"].replace(replacements, regex=True)\n",
    "\n",
    "# Save the modified CSV\n",
    "df.to_csv(instructor_final_formatted_filename, index=False)\n",
    "\n",
    "print(f\"Replacements applied and exported to {instructor_final_formatted_filename}\")\n"
   ]
  },
  {
   "cell_type": "code",
   "execution_count": null,
   "metadata": {},
   "outputs": [],
   "source": [
    "df = pd.read_csv(instructor_final_formatted_filename)\n",
    "\n",
    "# Remove stars and '/gym' from the 'Instructor' column\n",
    "df[\"Instructor\"] = df[\"Instructor\"].str.replace(r\"\\*\", \"\", regex=True)\n",
    "df[\"Room\"] = df[\"Room\"].str.replace(r\"/gym$\", \"\", regex=True)\n",
    "\n",
    "#Save modified\n",
    "df.to_csv(instructor_final_formatted_filename, index=False)\n",
    "print(f\"Replacements applied and exported to {instructor_final_formatted_filename}\")\n",
    " "
   ]
  },
  {
   "cell_type": "code",
   "execution_count": 41,
   "metadata": {},
   "outputs": [
    {
     "name": "stdout",
     "output_type": "stream",
     "text": [
      "Exported to finalFiles/testCoursesFall2025_prologReadyCourses_2025-03-12.csv\n"
     ]
    }
   ],
   "source": [
    "#Combining into one string\n",
    "# Load the final instructor course schedule CSV\n",
    "df = pd.read_csv(instructor_final_formatted_filename)\n",
    "\n",
    "# Function to combine the columns into a single string for each row with a space after each comma\n",
    "def combine_columns(row):\n",
    "    return f\"{row['Instructor']}, {row['Sub']}{row['Crse']},{row['Sec']}, {row['Day']}, {row['Time']}, {row['Room']}\"\n",
    "\n",
    "# Apply the function to combine the columns for each row into one formatted string\n",
    "df_combined = df.apply(combine_columns, axis=1)\n",
    "\n",
    "# Create a new DataFrame with the combined strings\n",
    "df_prolog_ready = pd.DataFrame(df_combined, columns=[\"Courses\"])\n",
    "\n",
    "# Sort the DataFrame alphabetically based on the first character of the 'Courses' column\n",
    "df_prolog_ready = df_prolog_ready.sort_values(by=\"Courses\", ascending=True).reset_index(drop=True)\n",
    "\n",
    "# Export the combined and sorted DataFrame to a new CSV\n",
    "df_prolog_ready.to_csv(prolog_ready_filename, index=False)\n",
    "\n",
    "print(f\"Exported to {prolog_ready_filename}\")"
   ]
  },
  {
   "cell_type": "code",
   "execution_count": null,
   "metadata": {},
   "outputs": [],
   "source": [
    "#NO TBA\n",
    "# Load the prologReadyCourses_Sorted CSV\n",
    "df = pd.read_csv(prolog_ready_filename)\n",
    "\n",
    "# Filter out any rows containing 'TBA' in the 'Courses' column\n",
    "df_filtered = df[~df[\"Courses\"].str.contains(\"TBA\", case=False, na=False)]\n",
    "\n",
    "# Export the filtered DataFrame to a new CSV\n",
    "df_filtered.to_csv(prolog_ready_no_tba_filename, index=False)\n",
    "\n",
    "print(f\"Filtered TBA and exported to {prolog_ready_no_tba_filename}\")\n"
   ]
  },
  {
   "cell_type": "markdown",
   "metadata": {},
   "source": [
    "GITHUB, BLANKS, Downloads, GITHUB REPOSITORY\n",
    "DEVELOP WEB SCRAPER FOR OH\n",
    "Done"
   ]
  },
  {
   "cell_type": "markdown",
   "metadata": {},
   "source": [
    "2/21/25\n",
    "Think about questions you want to answer with prolog. Facts and relationships you need to create!: Inprog\n",
    "ADD days to Courses!: Done\n",
    "Format names to be one string: Done\n",
    "Format both to have consistent format : Done\n",
    "Seperate Course times out(maybe): Done\n",
    "Format all into lowercase : Done\n",
    "Add in the sections and rooms : Done\n",
    "Get rid of \"-\" in the instructor names: Done\n",
    "\n",
    "Make user inputs user friendly: Extract current semester, would you like to go back to the last semester : Done\n",
    "Make new CSV for Faculty Contanct Info : Done\n",
    "Get rid of the *in staff for Fall 2025 : Done\n",
    "Set up filenames(Filenaming Consistency) to be an input variable and going into folder according: Done\n",
    "Update ReadME\n",
    "Get rid of Gym Slash and seperate greenhouse line: Done\n",
    "\n",
    "\n",
    "Format GitHub add folders"
   ]
  }
 ],
 "metadata": {
  "kernelspec": {
   "display_name": "Python 3",
   "language": "python",
   "name": "python3"
  },
  "language_info": {
   "codemirror_mode": {
    "name": "ipython",
    "version": 3
   },
   "file_extension": ".py",
   "mimetype": "text/x-python",
   "name": "python",
   "nbconvert_exporter": "python",
   "pygments_lexer": "ipython3",
   "version": "3.13.0"
  }
 },
 "nbformat": 4,
 "nbformat_minor": 2
}
