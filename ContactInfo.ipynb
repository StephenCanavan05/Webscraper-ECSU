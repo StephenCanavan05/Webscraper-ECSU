{
 "cells": [
  {
   "cell_type": "code",
   "execution_count": 1,
   "metadata": {},
   "outputs": [],
   "source": [
    "#imports\n",
    "from selenium import webdriver\n",
    "from selenium.webdriver.common.keys import Keys\n",
    "from selenium.webdriver.support.ui import Select\n",
    "import sys\n",
    "from selenium.webdriver.support.select import Select\n",
    "from selenium.webdriver.common.by import By\n",
    "import pandas as pd\n",
    "import csv\n",
    "import re\n",
    "import os\n",
    "from datetime import datetime"
   ]
  },
  {
   "cell_type": "code",
   "execution_count": 2,
   "metadata": {},
   "outputs": [],
   "source": [
    "# Get user input for filename prefix\n",
    "filename_prefix = input(\"Enter your file name followed by the current semester: \")\n",
    "date_str = datetime.today().strftime('%Y-%m-%d')\n",
    "\n",
    "# Create directories if they don't exist\n",
    "os.makedirs(\"webscrapedInfo\", exist_ok=True)\n",
    "os.makedirs(\"intermediateFiles\", exist_ok=True)\n",
    "os.makedirs(\"finalFiles\", exist_ok=True)\n",
    "\n",
    "# Define filenames with respective directories\n",
    "output_filename = f\"webscrapedInfo/{filename_prefix}_Output_{date_str}.csv\"\n",
    "all_faculty_info_filename = f\"webscrapedInfo/{filename_prefix}_AllFacultyInfo_{date_str}.csv\"\n",
    "contactinfo = f\"intermediateFiles/{filename_prefix}_contactinfo_{date_str}.csv\"\n",
    "contactinfo_Final = f\"finalFiles/{filename_prefix}_contactinfo_Final_{date_str}.csv\""
   ]
  },
  {
   "cell_type": "code",
   "execution_count": 3,
   "metadata": {},
   "outputs": [],
   "source": [
    "#Driver for firefox and loading the Eweb url\n",
    "driver = webdriver.Firefox()\n",
    "driver.implicitly_wait(10)\n",
    "\n",
    "driver.get(\"https://www.easternct.edu/faculty-directory/index.html\")"
   ]
  },
  {
   "cell_type": "code",
   "execution_count": 4,
   "metadata": {},
   "outputs": [],
   "source": [
    "#selecting SearchButton\n",
    "Search = driver.find_element(by = 'id', value = 'directorySearchButton')\n",
    "Search.click()"
   ]
  },
  {
   "cell_type": "code",
   "execution_count": 5,
   "metadata": {},
   "outputs": [],
   "source": [
    "#Locating the HTML where the info is stored\n",
    "table = driver.find_elements(by = 'class name', value = \"mix\")"
   ]
  },
  {
   "cell_type": "code",
   "execution_count": 6,
   "metadata": {},
   "outputs": [
    {
     "name": "stdout",
     "output_type": "stream",
     "text": [
      "CSV file saved as 'webscrapedInfo/test9Spring2025_Output_2025-04-02.csv'\n"
     ]
    }
   ],
   "source": [
    "for t in table[1:]:\n",
    "    t.text\n",
    "# Assuming table is already defined\n",
    "data = [t.text.strip() for t in table[1:]]\n",
    "\n",
    "# Create a DataFrame\n",
    "df = pd.DataFrame(data, columns=[\"Extracted Text\"])\n",
    "\n",
    "# Save to CSV\n",
    "df.to_csv(output_filename, index=False)\n",
    "\n",
    "print(f\"CSV file saved as '{output_filename}'\")"
   ]
  },
  {
   "cell_type": "code",
   "execution_count": 7,
   "metadata": {},
   "outputs": [],
   "source": [
    "#Close the webpage\n",
    "driver.quit()"
   ]
  },
  {
   "cell_type": "code",
   "execution_count": 8,
   "metadata": {},
   "outputs": [
    {
     "name": "stdout",
     "output_type": "stream",
     "text": [
      "Parsed CSV saved as 'webscrapedInfo/test9Spring2025_AllFacultyInfo_2025-04-02.csv'\n"
     ]
    }
   ],
   "source": [
    "def parse_professor_info(text):\n",
    "    \"\"\"\n",
    "    Parse professor info from a multi-line string into a dictionary.\n",
    "    Expected format:\n",
    "      Line 1: Name\n",
    "      Line 2: Position\n",
    "      Line 3: Department\n",
    "      Subsequent lines: 'Phone:', 'Email:', 'Office:' and optionally 'Hours:'\n",
    "    \"\"\"\n",
    "    lines = [line.strip() for line in text.splitlines() if line.strip()]\n",
    "    professor = {\n",
    "        'name': None,\n",
    "        'position': None,\n",
    "        'department': None,\n",
    "        'phone': None,\n",
    "        'email': None,\n",
    "        'office': None,\n",
    "        'Hours': None\n",
    "    }\n",
    "    \n",
    "    if len(lines) >= 1:\n",
    "        professor['name'] = lines[0]\n",
    "    if len(lines) >= 2:\n",
    "        professor['position'] = lines[1]\n",
    "    if len(lines) >= 3:\n",
    "        professor['department'] = lines[2]\n",
    "    \n",
    "    for line in lines:\n",
    "        if line.startswith('Phone:'):\n",
    "            professor['phone'] = line.replace('Phone:', '').strip()\n",
    "        elif line.startswith('Email:'):\n",
    "            professor['email'] = line.replace('Email:', '').strip()\n",
    "        elif line.startswith('Office:'):\n",
    "            professor['office'] = line.replace('Office:', '').strip()\n",
    "        elif line.startswith('Hours:'):\n",
    "            professor['Hours'] = line.replace('Hours:', '').strip()\n",
    "    \n",
    "    return professor\n",
    "\n",
    "def main():\n",
    "    # Load the CSV file with extracted text\n",
    "    df = pd.read_csv(output_filename)\n",
    "    \n",
    "    # Parse each row and create a new DataFrame with structured data\n",
    "    parsed_data = df[\"Extracted Text\"].apply(parse_professor_info).tolist()\n",
    "    parsed_df = pd.DataFrame(parsed_data)\n",
    "    \n",
    "    # Save the structured DataFrame to a new CSV file\n",
    "    parsed_df.to_csv(all_faculty_info_filename, index=False)\n",
    "    print(f\"Parsed CSV saved as '{all_faculty_info_filename}'\")\n",
    "\n",
    "if __name__ == '__main__':\n",
    "    main()"
   ]
  },
  {
   "cell_type": "code",
   "execution_count": 9,
   "metadata": {},
   "outputs": [],
   "source": [
    "\n",
    "# Load the CSV file\n",
    "df = pd.read_csv(all_faculty_info_filename)\n",
    "\n",
    "# Create a new column 'userID' which is a copy of the 'name' column\n",
    "df['userID'] = df['name']\n",
    "\n",
    "# Save the updated dataframe back to a new CSV file\n",
    "df.to_csv(all_faculty_info_filename, index=False)"
   ]
  },
  {
   "cell_type": "code",
   "execution_count": 10,
   "metadata": {},
   "outputs": [
    {
     "name": "stdout",
     "output_type": "stream",
     "text": [
      "Filtered data saved as 'intermediateFiles/test9Spring2025_contactinfo_2025-04-02.csv'\n"
     ]
    }
   ],
   "source": [
    "#Fixing Jr. name error\n",
    "# Load the CSV file\n",
    "df = pd.read_csv(all_faculty_info_filename)\n",
    "\n",
    "# Remove 'Jr.' if it appears at the end of a name with preceding spaces\n",
    "# \\s+  -> Matches one or more spaces before \"Jr.\"\n",
    "# Jr\\. -> Matches \"Jr.\"\n",
    "# \\s*$ -> Matches any trailing spaces at the end\n",
    "df[\"userID\"] = df[\"userID\"].str.replace(r\"\\s+Jr\\.\\s*$\", \"\", regex=True).str.strip()\n",
    "df[\"userID\"] = df[\"userID\"].str.replace(\"III\", \"\").str.strip()\n",
    "df[\"userID\"] = df[\"userID\"].str.replace(\"II\", \"\").str.strip()\n",
    "df[\"userID\"] = df[\"userID\"].str.replace(\"RN\", \"\").str.strip()\n",
    "\n",
    "df['name'] = df['name'].str.replace(r\"\\s+Jr\\.\\s*$\", \"\", regex=True).str.strip()\n",
    "df['name'] = df['name'].str.replace(\"III\", \"\").str.strip()\n",
    "df['name'] = df['name'].str.replace(\"II\", \"\").str.strip()\n",
    "df['name'] = df['name'].str.replace(\"RN\", \"\").str.strip()\n",
    "\n",
    "# Save the modified CSV\n",
    "df.to_csv(contactinfo, index=False)\n",
    "\n",
    "print(f\"Filtered data saved as '{contactinfo}'\")"
   ]
  },
  {
   "cell_type": "code",
   "execution_count": 11,
   "metadata": {},
   "outputs": [
    {
     "name": "stdout",
     "output_type": "stream",
     "text": [
      "Updated file saved as 'intermediateFiles/test9Spring2025_contactinfo_2025-04-02.csv'\n"
     ]
    }
   ],
   "source": [
    "# Format the name as \"Last, First Initial\"\n",
    "df = pd.read_csv(contactinfo)\n",
    "\n",
    "def format_name(name):\n",
    "    name_parts = name.split()\n",
    "    if len(name_parts) >= 2:\n",
    "        last_name = name_parts[-1]  # Last name is the last word\n",
    "        first_initial = name_parts[0][0]  # First initial from first word\n",
    "        return f\"{last_name}, {first_initial}\"\n",
    "    return name  # If format is unexpected, keep the name as is\n",
    "\n",
    "df[\"userID\"] = df[\"userID\"].apply(format_name)\n",
    "\n",
    "# Save the cleaned CSV\n",
    "df.to_csv(contactinfo, index=False)\n",
    "\n",
    "print(f\"Updated file saved as '{contactinfo}'\")"
   ]
  },
  {
   "cell_type": "code",
   "execution_count": 12,
   "metadata": {},
   "outputs": [
    {
     "name": "stdout",
     "output_type": "stream",
     "text": [
      "Formatted file saved as 'finalFiles/test9Spring2025_contactinfo_Final_2025-04-02.csv'\n"
     ]
    }
   ],
   "source": [
    "#Shrinking to desired rows\n",
    "# Load the cleaned CSV\n",
    "df = pd.read_csv(contactinfo)\n",
    "\n",
    "# Select only the required columns\n",
    "df_filtered = df[[\"userID\",\"name\", \"position\", \"department\", \"phone\", \"email\"]]\n",
    "\n",
    "# Save the formatted CSV\n",
    "df_filtered.to_csv(contactinfo_Final, index=False)\n",
    "\n",
    "print(f\"Formatted file saved as '{contactinfo_Final}'\")"
   ]
  },
  {
   "cell_type": "code",
   "execution_count": 13,
   "metadata": {},
   "outputs": [
    {
     "name": "stdout",
     "output_type": "stream",
     "text": [
      "Formatted file saved as 'finalFiles/test9Spring2025_contactinfo_Final_2025-04-02.csv'\n"
     ]
    }
   ],
   "source": [
    "df = pd.read_csv(contactinfo_Final)\n",
    "\n",
    "df['position'] = df['position'].str.replace(', ', ' ').str.replace(' - ', ' ').str.replace('- ', ' ').str.replace('-', ' ').str.replace(' -', ' ').str.replace('.', '').str.replace(\"'\", '').str.replace('(', '_').str.replace(')', '_').str.replace(';', '').str.replace(\":\",'').str.replace(\"&\",'')\n",
    "\n",
    "df['department'] = df['department'].str.replace(' ', '_').str.replace('-', '').str.replace('.', '').str.replace(\"'\", '').str.replace(\",\", '').str.replace('(', '_').str.replace(')', '_').str.replace(\"&\",'')\n",
    "\n",
    "df[\"name\"] = df[\"name\"].str.replace(' ', '_').str.replace('-', '').str.replace('.', '').str.replace(\"'\", '').str.replace('(', '_').str.replace(')', '_').str.replace(',', '')\n",
    "# Assuming the column with names is called 'userID', adjust if necessary\n",
    "df[\"userID\"] = df[\"userID\"].str.replace(',', '').str.replace('-', '').str.replace(' ', '').str.replace('.', '').str.replace(\"'\", '')\n",
    "#Replace phone \"-\"\n",
    "df[\"phone\"] = df[\"phone\"].str.replace('-', '_')\n",
    "#Replace email \".\"\n",
    "df[\"email\"] = df[\"email\"].str.replace('.', '')\n",
    "\n",
    "#Fix No postion phone issue\n",
    "df.loc[df['department'].str.contains('phone', case=False, na=False), 'department'] = 'null'\n",
    "#fix hyphen and comma\n",
    "df['position'] = df['position'].str.replace('–', '_')\n",
    "\n",
    "\n",
    "\n",
    "\n",
    "# Convert all columns to lowercase using apply() with axis=0 to apply to each column\n",
    "df = df.apply(lambda col: col.str.lower() if col.dtype == \"object\" else col)\n",
    "#Adding commas\n",
    "df['department'] = df['department'] + ', '\n",
    "#removing extra position spaces\n",
    "df['position'] = df['position'].str.replace(' ', '_')\n",
    "#Filtering out bad info\n",
    "df = df[df['userID'].apply(lambda x: len(str(x)) > 1)]\n",
    "\n",
    "df.to_csv(contactinfo_Final, index=False)\n",
    "print(f\"Formatted file saved as '{contactinfo_Final}'\")"
   ]
  },
  {
   "cell_type": "code",
   "execution_count": 14,
   "metadata": {},
   "outputs": [
    {
     "name": "stdout",
     "output_type": "stream",
     "text": [
      "Exported to finalFiles/test9Spring2025_contactinfo_Final_2025-04-02.csv\n"
     ]
    }
   ],
   "source": [
    "#Combining into one string\n",
    "# Load the final instructor course schedule CSV\n",
    "df = pd.read_csv(contactinfo_Final)\n",
    "\n",
    "# Function to combine the columns into a single string for each row with a space after each comma\n",
    "def combine_columns(row):\n",
    "    return f\"{row['userID']}, {row['name']}, {row['position']}, {row['department']}{row['phone']},{row['email']}\"\n",
    "\n",
    "# Apply the function to combine the columns for each row into one formatted string\n",
    "df_combined = df.apply(combine_columns, axis=1)\n",
    "\n",
    "# Create a new DataFrame with the combined strings\n",
    "df_prolog_ready = pd.DataFrame(df_combined, columns=[\"contactInfo\"])\n",
    "\n",
    "# Sort the DataFrame alphabetically based on the first character of the 'Courses' column\n",
    "df_prolog_ready = df_prolog_ready.sort_values(by=\"contactInfo\", ascending=True).reset_index(drop=True)\n",
    "\n",
    "# Export the combined and sorted DataFrame to a new CSV\n",
    "df_prolog_ready.to_csv(contactinfo_Final, index=False)\n",
    "\n",
    "print(f\"Exported to {contactinfo_Final}\")"
   ]
  },
  {
   "cell_type": "markdown",
   "metadata": {},
   "source": [
    "Fix the contanct Info userID issue: Done\n",
    "Think about Prolog questions and what facts would be put into prolog(\"Office Hours as a relation\") : Done\n",
    "Relations that are implications first order and propostional logic"
   ]
  },
  {
   "cell_type": "markdown",
   "metadata": {},
   "source": [
    "TO DO:\n",
    "Replace . : Done\n",
    "Replace commas in department field : Done\n",
    "delete ' : Done"
   ]
  },
  {
   "cell_type": "markdown",
   "metadata": {},
   "source": [
    "TO DO:\n",
    "Python code that creates prolog statements\n",
    "Qualify the questions into there respective logic"
   ]
  },
  {
   "cell_type": "markdown",
   "metadata": {},
   "source": [
    "Prolog Questions:\n",
    "What time does this prof have OH\n",
    "What are is this profs email, phone, office location ect..\n",
    "What profs are in this building\n",
    "What profs are in this department\n",
    "What time is this class\n",
    "Who teaches this class and sec\n",
    "Does this prof have an office in x building\n",
    "List all the profs that teach a Sub class\n",
    "List all profs that teach at a certain time\n",
    "Is x prof in there office at x time or day"
   ]
  }
 ],
 "metadata": {
  "kernelspec": {
   "display_name": "Python 3",
   "language": "python",
   "name": "python3"
  },
  "language_info": {
   "codemirror_mode": {
    "name": "ipython",
    "version": 3
   },
   "file_extension": ".py",
   "mimetype": "text/x-python",
   "name": "python",
   "nbconvert_exporter": "python",
   "pygments_lexer": "ipython3",
   "version": "3.13.0"
  }
 },
 "nbformat": 4,
 "nbformat_minor": 2
}
