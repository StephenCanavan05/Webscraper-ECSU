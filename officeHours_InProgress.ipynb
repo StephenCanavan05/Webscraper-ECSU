{
 "cells": [
  {
   "cell_type": "code",
   "execution_count": 3,
   "metadata": {},
   "outputs": [],
   "source": [
    "#imports\n",
    "from selenium import webdriver\n",
    "from selenium.webdriver.common.keys import Keys\n",
    "from selenium.webdriver.support.ui import Select\n",
    "import sys\n",
    "from selenium.webdriver.support.select import Select\n",
    "from selenium.webdriver.common.by import By\n",
    "import pandas as pd"
   ]
  },
  {
   "cell_type": "code",
   "execution_count": 2,
   "metadata": {},
   "outputs": [],
   "source": [
    "#Driver for firefox and loading the Eweb url\n",
    "driver = webdriver.Firefox()\n",
    "driver.implicitly_wait(10)\n",
    "\n",
    "driver.get(\"https://www.easternct.edu/faculty-directory/index.html\")"
   ]
  },
  {
   "cell_type": "code",
   "execution_count": 4,
   "metadata": {},
   "outputs": [],
   "source": [
    "#selecting SearchButton\n",
    "Search = driver.find_element(by = 'id', value = 'directorySearchButton')\n",
    "Search.click()"
   ]
  },
  {
   "cell_type": "code",
   "execution_count": null,
   "metadata": {},
   "outputs": [],
   "source": [
    "#Locating the HTML where the info is stored\n",
    "table = driver.find_element(by = 'tag name', value = \"az-content\")"
   ]
  },
  {
   "cell_type": "code",
   "execution_count": null,
   "metadata": {},
   "outputs": [],
   "source": [
    "#The loop + the storage array\n",
    "OH = []\n",
    "\n",
    "for professors in table[1:]:\n",
    "    rows = driver.find_element(by = 'class')\n",
    "\n",
    "    for officeHours in rows:\n",
    "        indicies = [0,2]\n",
    "        data = []\n",
    "        for i in officeHours[indicies]:\n",
    "            x = driver.find_"
   ]
  },
  {
   "cell_type": "code",
   "execution_count": null,
   "metadata": {},
   "outputs": [],
   "source": [
    "print(len(table))"
   ]
  }
 ],
 "metadata": {
  "kernelspec": {
   "display_name": "Python 3",
   "language": "python",
   "name": "python3"
  },
  "language_info": {
   "codemirror_mode": {
    "name": "ipython",
    "version": 3
   },
   "file_extension": ".py",
   "mimetype": "text/x-python",
   "name": "python",
   "nbconvert_exporter": "python",
   "pygments_lexer": "ipython3",
   "version": "3.13.0"
  }
 },
 "nbformat": 4,
 "nbformat_minor": 2
}
