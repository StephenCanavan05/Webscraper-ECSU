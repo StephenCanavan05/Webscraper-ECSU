{
 "cells": [
  {
   "cell_type": "code",
   "execution_count": 1,
   "id": "c7e749b0",
   "metadata": {},
   "outputs": [
    {
     "name": "stdout",
     "output_type": "stream",
     "text": [
      "1. If jill can't watch a movie, does this entail that she can play a game?  \n",
      "   Answer: yes\n",
      "\n",
      "2. If jill can't watch a movie, does this mean that she can't play a game?  \n",
      "   Answer: no\n",
      "\n",
      "3. If Jill can watch a movie, does this mean that she can't play a game?  \n",
      "   Answer: no\n",
      "\n",
      "4. If Jill can watch a movie, does this mean that she can play a game?  \n",
      "   Answer: yes\n"
     ]
    }
   ],
   "source": [
    "import os\n",
    "from openai import OpenAI\n",
    "\n",
    "\n",
    "\n",
    "client = OpenAI(\n",
    "    api_key= os.getenv(\"OPENAI_API_KEY\")\n",
    "    )\n",
    "\n",
    "\n",
    "response = client.responses.create(\n",
    "  model=\"gpt-4o-mini\",\n",
    "  input=\"\"\" Please list each question in order as 1,2,3.. and then provide the answer, yes or no and nothing else:   axiom: disjunctive_syllogism,\n",
    "    data_samples: [\n",
    "        {\n",
    "            context: We know that atleast one of the following is true (1) they can watch a movie and (2) they can play a game. Note that we do not know which ones of (1) and (2) are true. It might be the case that only (1) is true, or only (2) is true or both are true.,\n",
    "            qa_pairs: [\n",
    "                {\n",
    "                    question: If jill can't watch a movie, does this entail that She can play a game?,\n",
    "                    answer yes or no: \n",
    "                },\n",
    "                {\n",
    "                    question: If jill can't watch a movie, does this mean that she can't play a game?,\n",
    "                    answer yes or no: \n",
    "                },\n",
    "                {\n",
    "                    question: If Jill can watch a movie, does this mean that she can't play a game?,\n",
    "                    answer yes or no: \n",
    "                },\n",
    "                {\n",
    "                    question: If Jill can watch a movie, does this mean that She can play a game?,\n",
    "                    answer yes or no: \n",
    "                }\n",
    "            ]\"\"\",\n",
    "  store=True,\n",
    ")\n",
    "\n",
    "print(response.output_text);\n"
   ]
  }
 ],
 "metadata": {
  "kernelspec": {
   "display_name": "Python 3",
   "language": "python",
   "name": "python3"
  },
  "language_info": {
   "codemirror_mode": {
    "name": "ipython",
    "version": 3
   },
   "file_extension": ".py",
   "mimetype": "text/x-python",
   "name": "python",
   "nbconvert_exporter": "python",
   "pygments_lexer": "ipython3",
   "version": "3.13.0"
  }
 },
 "nbformat": 4,
 "nbformat_minor": 5
}
