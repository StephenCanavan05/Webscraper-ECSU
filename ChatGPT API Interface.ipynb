{
 "cells": [
  {
   "cell_type": "code",
   "execution_count": null,
   "id": "c7e749b0",
   "metadata": {},
   "outputs": [
    {
     "name": "stdout",
     "output_type": "stream",
     "text": [
      "Here's the analysis of the questions based on the provided context using the disjunctive syllogism:\n",
      "\n",
      "1. **If Jill can't watch a movie, does this entail that she can play a game?**\n",
      "   - **Answer:** Yes. (Since at least one of the two options is true, if she can't watch a movie, then she must be able to play a game.)\n",
      "\n",
      "2. **If Jill can't watch a movie, does this mean that she can't play a game?**\n",
      "   - **Answer:** No. (Just because she can't watch a movie does not mean she can't play a game; she could still do that.)\n",
      "\n",
      "3. **If Jill can watch a movie, does this mean that she can't play a game?**\n",
      "   - **Answer:** No. (She can do both; the ability to watch a movie does not exclude the ability to play a game.)\n",
      "\n",
      "4. **If Jill can watch a movie, does this mean that she can play a game?**\n",
      "   - **Answer:** Not necessarily. (While one could be true, we don't definitively conclude that if she can watch a movie, she must be able to play a game.) \n",
      "\n",
      "Hope this helps!\n"
     ]
    }
   ],
   "source": [
    "from openai import OpenAI\n",
    "\n",
    "client = OpenAI(\n",
    "  api_key=\"\"\n",
    ")\n",
    "\n",
    "response = client.responses.create(\n",
    "  model=\"gpt-4o-mini\",\n",
    "  input=\"\"\"   axiom: disjunctive_syllogism,\n",
    "    data_samples: [\n",
    "        {\n",
    "            context: We know that atleast one of the following is true (1) they can watch a movie and (2) they can play a game. Note that we do not know which ones of (1) and (2) are true. It might be the case that only (1) is true, or only (2) is true or both are true.,\n",
    "            qa_pairs: [\n",
    "                {\n",
    "                    question: If jill can't watch a movie, does this entail that She can play a game?,\n",
    "                    answer yes or no: \n",
    "                },\n",
    "                {\n",
    "                    question: If jill can't watch a movie, does this mean that she can't play a game?,\n",
    "                    answer yes or no: \n",
    "                },\n",
    "                {\n",
    "                    question: If Jill can watch a movie, does this mean that she can't play a game?,\n",
    "                    answer yes or no: \n",
    "                },\n",
    "                {\n",
    "                    question: If Jill can watch a movie, does this mean that She can play a game?,\n",
    "                    answer yes or no: \n",
    "                }\n",
    "            ]\"\"\",\n",
    "  store=True,\n",
    ")\n",
    "\n",
    "print(response.output_text);"
   ]
  }
 ],
 "metadata": {
  "kernelspec": {
   "display_name": "Python 3",
   "language": "python",
   "name": "python3"
  },
  "language_info": {
   "codemirror_mode": {
    "name": "ipython",
    "version": 3
   },
   "file_extension": ".py",
   "mimetype": "text/x-python",
   "name": "python",
   "nbconvert_exporter": "python",
   "pygments_lexer": "ipython3",
   "version": "3.13.0"
  }
 },
 "nbformat": 4,
 "nbformat_minor": 5
}
