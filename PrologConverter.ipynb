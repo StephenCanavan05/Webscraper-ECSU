{
 "cells": [
  {
   "cell_type": "code",
   "execution_count": 1,
   "metadata": {},
   "outputs": [
    {
     "name": "stdout",
     "output_type": "stream",
     "text": [
      "Upload contact info CSV:\n"
     ]
    },
    {
     "data": {
      "application/vnd.jupyter.widget-view+json": {
       "model_id": "c6d04b48402b4dd2ae9f78920737b8ee",
       "version_major": 2,
       "version_minor": 0
      },
      "text/plain": [
       "VBox(children=(Label(value='Upload Contact Info CSV'), FileUpload(value=(), accept='.csv', description='Upload…"
      ]
     },
     "metadata": {},
     "output_type": "display_data"
    },
    {
     "name": "stdout",
     "output_type": "stream",
     "text": [
      "Upload office hours CSV:\n"
     ]
    },
    {
     "data": {
      "application/vnd.jupyter.widget-view+json": {
       "model_id": "5db8b6ade1174fe29f30880a84a0ec62",
       "version_major": 2,
       "version_minor": 0
      },
      "text/plain": [
       "VBox(children=(Label(value='Upload Office Hours CSV'), FileUpload(value=(), accept='.csv', description='Upload…"
      ]
     },
     "metadata": {},
     "output_type": "display_data"
    },
    {
     "name": "stdout",
     "output_type": "stream",
     "text": [
      "Upload courses CSV:\n"
     ]
    },
    {
     "data": {
      "application/vnd.jupyter.widget-view+json": {
       "model_id": "d200c4da77ca4234a178935207997eeb",
       "version_major": 2,
       "version_minor": 0
      },
      "text/plain": [
       "VBox(children=(Label(value='Upload Courses CSV'), FileUpload(value=(), accept='.csv', description='Upload')))"
      ]
     },
     "metadata": {},
     "output_type": "display_data"
    }
   ],
   "source": [
    "import pandas as pd\n",
    "from IPython.display import display\n",
    "import ipywidgets as widgets\n",
    "import time\n",
    "import os\n",
    "\n",
    "def file_picker(label_text=\"Choose a file\"):\n",
    "    uploader = widgets.FileUpload(accept='.csv', multiple=False)\n",
    "    display(widgets.VBox([widgets.Label(label_text), uploader]))\n",
    "    \n",
    "    def get_file():\n",
    "        # Wait for upload\n",
    "        while not uploader.value:\n",
    "            time.sleep(0.1)\n",
    "\n",
    "        uploaded = uploader.value[0]  # Get first uploaded item\n",
    "        filename = uploaded.get('name', 'uploaded_file.csv')\n",
    "        with open(filename, 'wb') as f:\n",
    "            f.write(uploaded['content'])\n",
    "        return filename\n",
    "\n",
    "    return get_file\n",
    "\n",
    "def process_csv(input_file, output_file, fact_name, modify_last_col=False):\n",
    "    df = pd.read_csv(input_file, skiprows=1)\n",
    "    df = df.applymap(lambda x: str(x).replace(\"'\", \"\"))\n",
    "    \n",
    "    if modify_last_col:\n",
    "        df.iloc[:, -1] = df.iloc[:, -1].apply(lambda x: x.replace(\"@\", \"_at_\"))\n",
    "    \n",
    "    with open(output_file, 'w') as outfile:\n",
    "        for _, row in df.iterrows():\n",
    "            fact = f\"{fact_name}({', '.join(row)}).\\n\"\n",
    "            outfile.write(fact)\n",
    "\n",
    "print(\"Upload contact info CSV:\")\n",
    "contact_get_file = file_picker(\"Upload Contact Info CSV\")\n",
    "\n",
    "print(\"Upload office hours CSV:\")\n",
    "office_get_file = file_picker(\"Upload Office Hours CSV\")\n",
    "\n",
    "print(\"Upload courses CSV:\")\n",
    "courses_get_file = file_picker(\"Upload Courses CSV\")"
   ]
  },
  {
   "cell_type": "code",
   "execution_count": 2,
   "metadata": {},
   "outputs": [
    {
     "name": "stdout",
     "output_type": "stream",
     "text": [
      "Prolog fact files generated successfully!\n"
     ]
    },
    {
     "name": "stderr",
     "output_type": "stream",
     "text": [
      "C:\\Users\\stevo\\AppData\\Local\\Temp\\ipykernel_3376\\577121542.py:26: FutureWarning: DataFrame.applymap has been deprecated. Use DataFrame.map instead.\n",
      "  df = df.applymap(lambda x: str(x).replace(\"'\", \"\"))\n",
      "C:\\Users\\stevo\\AppData\\Local\\Temp\\ipykernel_3376\\577121542.py:26: FutureWarning: DataFrame.applymap has been deprecated. Use DataFrame.map instead.\n",
      "  df = df.applymap(lambda x: str(x).replace(\"'\", \"\"))\n",
      "C:\\Users\\stevo\\AppData\\Local\\Temp\\ipykernel_3376\\577121542.py:26: FutureWarning: DataFrame.applymap has been deprecated. Use DataFrame.map instead.\n",
      "  df = df.applymap(lambda x: str(x).replace(\"'\", \"\"))\n"
     ]
    }
   ],
   "source": [
    "# Create the prologFiles folder if it doesn't exist\n",
    "if not os.path.exists('prologFiles'):\n",
    "    os.makedirs('prologFiles')\n",
    "\n",
    "# Define the file paths in the prologFiles folder\n",
    "contact_output = os.path.join('prologFiles', 'contact_facts.pl')\n",
    "office_hours_output = os.path.join('prologFiles', 'office_hours_facts.pl')\n",
    "courses_output = os.path.join('prologFiles', 'courses_facts.pl')\n",
    "\n",
    "# Process the files and save to the prologFiles folder\n",
    "contact_file = contact_get_file()\n",
    "office_file = office_get_file()\n",
    "courses_file = courses_get_file()\n",
    "\n",
    "process_csv(contact_file, contact_output, 'contact', modify_last_col=True)\n",
    "process_csv(office_file, office_hours_output, 'oh')\n",
    "process_csv(courses_file, courses_output, 'courses')\n",
    "\n",
    "print(\"Prolog fact files generated successfully!\")"
   ]
  }
 ],
 "metadata": {
  "kernelspec": {
   "display_name": "Python 3",
   "language": "python",
   "name": "python3"
  },
  "language_info": {
   "codemirror_mode": {
    "name": "ipython",
    "version": 3
   },
   "file_extension": ".py",
   "mimetype": "text/x-python",
   "name": "python",
   "nbconvert_exporter": "python",
   "pygments_lexer": "ipython3",
   "version": "3.13.0"
  }
 },
 "nbformat": 4,
 "nbformat_minor": 2
}
