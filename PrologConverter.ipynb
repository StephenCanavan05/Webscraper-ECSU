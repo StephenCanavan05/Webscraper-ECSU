{
 "cells": [
  {
   "cell_type": "code",
   "execution_count": 2,
   "metadata": {},
   "outputs": [
    {
     "name": "stdout",
     "output_type": "stream",
     "text": [
      "Prolog fact files generated successfully!\n"
     ]
    }
   ],
   "source": [
    "# Prolog Code generation\n",
    "import csv\n",
    "\n",
    "def process_contact_info(input_file, output_file):\n",
    "    with open(input_file, 'r') as infile, open(output_file, 'w') as outfile:\n",
    "        reader = csv.reader(infile)\n",
    "        for row in reader:\n",
    "            clean_row = [col.replace(\"'\", \"\") for col in row]\n",
    "            if clean_row:\n",
    "                clean_row[-1] = clean_row[-1].replace(\"@\", \"_at_\")  # Replace @ with _at_\n",
    "            fact = f\"contact({', '.join(clean_row)}).\\n\"\n",
    "            outfile.write(fact)\n",
    "\n",
    "def process_office_hours(input_file, output_file):\n",
    "    with open(input_file, 'r') as infile, open(output_file, 'w') as outfile:\n",
    "        reader = csv.reader(infile)\n",
    "        for row in reader:\n",
    "            clean_row = [col.replace(\"'\", \"\") for col in row]\n",
    "            fact = f\"oh({', '.join(clean_row)}).\\n\"\n",
    "            outfile.write(fact)\n",
    "\n",
    "def process_courses(input_file, output_file):\n",
    "    with open(input_file, 'r') as infile, open(output_file, 'w') as outfile:\n",
    "        reader = csv.reader(infile)\n",
    "        for row in reader:\n",
    "            clean_row = [col.replace(\"'\", \"\") for col in row]\n",
    "            fact = f\"courses({', '.join(clean_row)}).\\n\"\n",
    "            outfile.write(fact)\n",
    "\n",
    "# File paths (replace with actual paths if needed)\n",
    "contact_info_file = 'finalFiles/test10Spring2025_contactinfo_Final_2025-04-02.csv'\n",
    "office_hours_file = 'finalFiles/1TestSpring2025_Formatted_Instructor_FurtherTimeFormat_Expanded_Lowercase_Updated_Office_Changes_2025-04-02.csv'\n",
    "courses_file = 'finalFiles/testcoursesSpring2025_prologReadyCourses_2025-03-12.csv'\n",
    "\n",
    "# Output files\n",
    "contact_output = 'contact_facts.pl'\n",
    "office_hours_output = 'office_hours_facts.txt'\n",
    "courses_output = 'courses_facts.txt'\n",
    "\n",
    "# Process each file\n",
    "process_contact_info(contact_info_file, contact_output)\n",
    "process_office_hours(office_hours_file, office_hours_output)\n",
    "process_courses(courses_file, courses_output)\n",
    "\n",
    "print(\"Prolog fact files generated successfully!\")"
   ]
  }
 ],
 "metadata": {
  "kernelspec": {
   "display_name": "Python 3",
   "language": "python",
   "name": "python3"
  },
  "language_info": {
   "codemirror_mode": {
    "name": "ipython",
    "version": 3
   },
   "file_extension": ".py",
   "mimetype": "text/x-python",
   "name": "python",
   "nbconvert_exporter": "python",
   "pygments_lexer": "ipython3",
   "version": "3.13.0"
  }
 },
 "nbformat": 4,
 "nbformat_minor": 2
}
